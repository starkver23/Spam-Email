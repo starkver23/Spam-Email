{
 "cells": [
  {
   "cell_type": "code",
   "execution_count": 24,
   "id": "dbbbcf03-d1e4-4c64-adf6-0e60cbbdce31",
   "metadata": {},
   "outputs": [
    {
     "name": "stdout",
     "output_type": "stream",
     "text": [
      "Naive Bayes\n"
     ]
    }
   ],
   "source": [
    "print(\"Naive Bayes\")"
   ]
  },
  {
   "cell_type": "code",
   "execution_count": 36,
   "id": "1f4bb81b-7e68-4487-8b87-397cd434fa3e",
   "metadata": {},
   "outputs": [],
   "source": [
    "import pandas as pd\n",
    "from sklearn.feature_extraction.text import TfidfVectorizer\n",
    "from sklearn.naive_bayes import MultinomialNB\n",
    "from sklearn.model_selection import train_test_split\n",
    "from sklearn.metrics import accuracy_score, precision_score, recall_score, f1_score, classification_report\n"
   ]
  },
  {
   "cell_type": "code",
   "execution_count": 37,
   "id": "f269b7e9-12bd-4afb-94ba-448936fa8607",
   "metadata": {},
   "outputs": [],
   "source": [
    "# Load your dataset\n",
    "data = pd.read_csv(\"emails.csv\")\n"
   ]
  },
  {
   "cell_type": "code",
   "execution_count": 38,
   "id": "bc03eec1-a0c2-48e9-bb4a-bea8fe83b36d",
   "metadata": {},
   "outputs": [],
   "source": [
    "# Check for any null values and handle them if necessary\n",
    "data.dropna(inplace=True)"
   ]
  },
  {
   "cell_type": "code",
   "execution_count": 39,
   "id": "2f8c6fc1-c7c1-4f1d-9e8e-cd38910e7a14",
   "metadata": {},
   "outputs": [
    {
     "name": "stdout",
     "output_type": "stream",
     "text": [
      "Sample of the dataset:\n",
      "                                                text  spam\n",
      "0  Subject: naturally irresistible your corporate...     1\n",
      "1  Subject: the stock trading gunslinger  fanny i...     1\n",
      "2  Subject: unbelievable new homes made easy  im ...     1\n",
      "3  Subject: 4 color printing special  request add...     1\n",
      "4  Subject: do not have money , get software cds ...     1\n"
     ]
    }
   ],
   "source": [
    "print(\"Sample of the dataset:\")\n",
    "print(data.head())"
   ]
  },
  {
   "cell_type": "code",
   "execution_count": 40,
   "id": "2989473a-123f-447f-90af-cc17dbfdd444",
   "metadata": {},
   "outputs": [],
   "source": [
    "# Extract features and labels\n",
    "X = data['text']\n",
    "y = data['spam']"
   ]
  },
  {
   "cell_type": "code",
   "execution_count": 41,
   "id": "53e733ce-e3a7-45d1-982e-1f90ec700b06",
   "metadata": {},
   "outputs": [],
   "source": [
    "# Split the dataset into training and testing sets\n",
    "X_train, X_test, y_train, y_test = train_test_split(X, y, test_size=0.2, random_state=42)\n"
   ]
  },
  {
   "cell_type": "code",
   "execution_count": 42,
   "id": "7d0d5c84-e14b-42c0-9945-7caf4075ce2e",
   "metadata": {},
   "outputs": [],
   "source": [
    "# Vectorize the text data using TF-IDF\n",
    "vectorizer = TfidfVectorizer(stop_words='english', max_df=0.7)\n",
    "X_train_tfidf = vectorizer.fit_transform(X_train)\n",
    "X_test_tfidf = vectorizer.transform(X_test)"
   ]
  },
  {
   "cell_type": "code",
   "execution_count": 43,
   "id": "5cc1fc65-d02d-4da2-9b7b-1f6a1797be80",
   "metadata": {},
   "outputs": [],
   "source": [
    "# Vectorize the text data using TF-IDF\n",
    "vectorizer = TfidfVectorizer(stop_words='english', max_df=0.7)\n",
    "X_train_tfidf = vectorizer.fit_transform(X_train)\n",
    "X_test_tfidf = vectorizer.transform(X_test)\n"
   ]
  },
  {
   "cell_type": "code",
   "execution_count": 44,
   "id": "0783e676-2568-48c5-8d19-c85a397f940d",
   "metadata": {},
   "outputs": [],
   "source": [
    "# Initialize the Naive Bayes model\n",
    "nb_model = MultinomialNB()\n",
    "\n",
    "# Train the model\n",
    "nb_model.fit(X_train_tfidf, y_train)\n",
    "\n",
    "# Make predictions on the test set\n",
    "y_pred = nb_model.predict(X_test_tfidf)"
   ]
  },
  {
   "cell_type": "code",
   "execution_count": 45,
   "id": "1c6aced9-eac4-4447-8c16-03e0c9f6618a",
   "metadata": {},
   "outputs": [],
   "source": [
    "# Evaluate the model\n",
    "accuracy = accuracy_score(y_test, y_pred)\n",
    "classification_rep = classification_report(y_test, y_pred)\n"
   ]
  },
  {
   "cell_type": "code",
   "execution_count": 46,
   "id": "760abb57-408d-4416-8c95-9a12d8c62681",
   "metadata": {},
   "outputs": [
    {
     "name": "stdout",
     "output_type": "stream",
     "text": [
      "Accuracy: 0.8926701570680629\n",
      "Classification Report:\n",
      "              precision    recall  f1-score   support\n",
      "\n",
      "           0       0.87      1.00      0.93       856\n",
      "           1       1.00      0.58      0.73       290\n",
      "\n",
      "    accuracy                           0.89      1146\n",
      "   macro avg       0.94      0.79      0.83      1146\n",
      "weighted avg       0.91      0.89      0.88      1146\n",
      "\n"
     ]
    }
   ],
   "source": [
    "print(f'Accuracy: {accuracy}')\n",
    "print('Classification Report:')\n",
    "print(classification_rep)"
   ]
  },
  {
   "cell_type": "code",
   "execution_count": 88,
   "id": "6c4b3028-e852-44ca-8583-58b81cf71f9c",
   "metadata": {},
   "outputs": [],
   "source": [
    "import pandas as pd\n",
    "import pickle"
   ]
  },
  {
   "cell_type": "code",
   "execution_count": 89,
   "id": "3522bda2-8459-42b6-af9b-9ea1e0586d2b",
   "metadata": {},
   "outputs": [],
   "source": [
    "with open('test_data.txt', 'r') as file:\n",
    "    test_data = file.readlines()\n",
    "\n",
    "# Remove newline characters from the end of each line\n",
    "test_data = [email.strip() for email in test_data]\n"
   ]
  },
  {
   "cell_type": "code",
   "execution_count": 90,
   "id": "cf4f74d9-ffb8-458a-a668-243e1ee70473",
   "metadata": {},
   "outputs": [
    {
     "name": "stdout",
     "output_type": "stream",
     "text": [
      "                                                 Email Prediction\n",
      "0    \"Hey there, I wanted to let you know about thi...   NOT SPAM\n",
      "1    \"Congratulations! You've won a free vacation. ...   NOT SPAM\n",
      "2    \"Reminder: Your appointment is scheduled for t...   NOT SPAM\n",
      "3    \"Please review the attached document and provi...   NOT SPAM\n",
      "4    \"URGENT: Your account has been compromised. Cl...       SPAM\n",
      "..                                                 ...        ...\n",
      "100  \"Unlock the secrets of success with our motiva...   NOT SPAM\n",
      "101  \"Elevate your dining experience with our gourm...   NOT SPAM\n",
      "102  \"Stay informed and entertained with our curate...   NOT SPAM\n",
      "103  \"Transform your backyard into an oasis with ou...   NOT SPAM\n",
      "104  \"Join the movement! Learn about sustainability...   NOT SPAM\n",
      "\n",
      "[105 rows x 2 columns]\n"
     ]
    }
   ],
   "source": [
    "# Vectorize the test data using the TF-IDF vectorizer used for training\n",
    "X_test_tfidf = vectorizer.transform(test_data)\n",
    "\n",
    "# Make predictions on the test data\n",
    "predictions = nb_model.predict(X_test_tfidf)\n",
    "\n",
    "# Create a DataFrame to display the predictions\n",
    "results_df = pd.DataFrame({\n",
    "    'Email': test_data,\n",
    "    'Prediction': ['SPAM' if pred == 1 else 'NOT SPAM' for pred in predictions]\n",
    "})\n",
    "\n",
    "# Display the DataFrame\n",
    "print(results_df)"
   ]
  },
  {
   "cell_type": "code",
   "execution_count": 47,
   "id": "88c7cf91-e530-4bad-a4fe-eb9a0a6189e7",
   "metadata": {},
   "outputs": [
    {
     "name": "stdout",
     "output_type": "stream",
     "text": [
      "SVM\n"
     ]
    }
   ],
   "source": [
    "print(\"SVM\")"
   ]
  },
  {
   "cell_type": "code",
   "execution_count": 48,
   "id": "9ae1ba54-2922-4509-84a2-8ec456aa7891",
   "metadata": {},
   "outputs": [],
   "source": [
    "from sklearn.svm import SVC\n",
    "from sklearn.metrics import classification_report"
   ]
  },
  {
   "cell_type": "code",
   "execution_count": 49,
   "id": "38e19c9d-c3fb-4580-9050-5a26da08c83a",
   "metadata": {},
   "outputs": [],
   "source": [
    "# Check for any null values and handle them if necessary\n",
    "data.dropna(inplace=True)"
   ]
  },
  {
   "cell_type": "code",
   "execution_count": 50,
   "id": "cd40921f-d470-4e80-ab43-98f83f441836",
   "metadata": {},
   "outputs": [
    {
     "name": "stdout",
     "output_type": "stream",
     "text": [
      "Sample of the dataset:\n",
      "                                                text  spam\n",
      "0  Subject: naturally irresistible your corporate...     1\n",
      "1  Subject: the stock trading gunslinger  fanny i...     1\n",
      "2  Subject: unbelievable new homes made easy  im ...     1\n",
      "3  Subject: 4 color printing special  request add...     1\n",
      "4  Subject: do not have money , get software cds ...     1\n"
     ]
    }
   ],
   "source": [
    "print(\"Sample of the dataset:\")\n",
    "print(data.head())"
   ]
  },
  {
   "cell_type": "code",
   "execution_count": 51,
   "id": "43b3c904-b3f6-4c5a-a147-1e21d5af8c83",
   "metadata": {},
   "outputs": [],
   "source": [
    "# Extract features and labels\n",
    "X = data['text']\n",
    "y = data['spam']"
   ]
  },
  {
   "cell_type": "code",
   "execution_count": 52,
   "id": "6da34970-abe6-4261-910c-0a15307d8d5c",
   "metadata": {},
   "outputs": [],
   "source": [
    "# Split the dataset into training and testing sets\n",
    "X_train, X_test, y_train, y_test = train_test_split(X, y, test_size=0.2, random_state=42)\n"
   ]
  },
  {
   "cell_type": "code",
   "execution_count": 53,
   "id": "b81aa318-b255-48ac-aa2f-fdd2c0480567",
   "metadata": {},
   "outputs": [],
   "source": [
    "# Vectorize the text data using TF-IDF\n",
    "vectorizer = TfidfVectorizer(stop_words='english', max_df=0.7)\n",
    "X_train_tfidf = vectorizer.fit_transform(X_train)\n",
    "X_test_tfidf = vectorizer.transform(X_test)\n"
   ]
  },
  {
   "cell_type": "code",
   "execution_count": 54,
   "id": "70463f2c-0fbf-4386-ab89-0d96201ee0d4",
   "metadata": {},
   "outputs": [],
   "source": [
    "# Initialize the SVM model\n",
    "svm_model = SVC(kernel='linear', C=1.0, random_state=42)\n",
    "\n",
    "# Train the model\n",
    "svm_model.fit(X_train_tfidf, y_train)\n",
    "\n",
    "# Make predictions on the test set\n",
    "y_pred = svm_model.predict(X_test_tfidf)"
   ]
  },
  {
   "cell_type": "code",
   "execution_count": 55,
   "id": "52ff7128-60c5-4b22-9d7a-fd72b43b7fb5",
   "metadata": {},
   "outputs": [],
   "source": [
    "# Evaluate the model\n",
    "accuracy = accuracy_score(y_test, y_pred)\n",
    "classification_rep = classification_report(y_test, y_pred)\n",
    "\n"
   ]
  },
  {
   "cell_type": "code",
   "execution_count": 56,
   "id": "b2957afe-8ea3-41d4-b5dd-b7417e6bb1c5",
   "metadata": {},
   "outputs": [
    {
     "name": "stdout",
     "output_type": "stream",
     "text": [
      "Accuracy: 0.9921465968586387\n",
      "Classification Report:\n",
      "              precision    recall  f1-score   support\n",
      "\n",
      "           0       0.99      1.00      0.99       856\n",
      "           1       0.99      0.98      0.98       290\n",
      "\n",
      "    accuracy                           0.99      1146\n",
      "   macro avg       0.99      0.99      0.99      1146\n",
      "weighted avg       0.99      0.99      0.99      1146\n",
      "\n"
     ]
    }
   ],
   "source": [
    "print(f'Accuracy: {accuracy}')\n",
    "print('Classification Report:')\n",
    "print(classification_rep)"
   ]
  },
  {
   "cell_type": "code",
   "execution_count": 76,
   "id": "9b7da3d8-6991-419e-b569-1e057ca0a846",
   "metadata": {},
   "outputs": [
    {
     "name": "stdout",
     "output_type": "stream",
     "text": [
      "Random Forest\n"
     ]
    }
   ],
   "source": [
    "print(\"Random Forest\")"
   ]
  },
  {
   "cell_type": "code",
   "execution_count": 57,
   "id": "9fc1987a-86f3-4013-ad15-5c1ca7818d93",
   "metadata": {},
   "outputs": [
    {
     "name": "stdout",
     "output_type": "stream",
     "text": [
      "Accuracy for Random Forest: 0.9755671902268761\n",
      "Classification Report for Random Forest:\n",
      "              precision    recall  f1-score   support\n",
      "\n",
      "           0       0.97      1.00      0.98       856\n",
      "           1       1.00      0.90      0.95       290\n",
      "\n",
      "    accuracy                           0.98      1146\n",
      "   macro avg       0.98      0.95      0.97      1146\n",
      "weighted avg       0.98      0.98      0.98      1146\n",
      "\n"
     ]
    }
   ],
   "source": [
    "from sklearn.ensemble import RandomForestClassifier\n",
    "\n",
    "# Initialize the Random Forest model\n",
    "rf_model = RandomForestClassifier(n_estimators=100, random_state=42)\n",
    "\n",
    "# Train the model\n",
    "rf_model.fit(X_train_tfidf, y_train)\n",
    "\n",
    "# Make predictions on the test set\n",
    "y_pred_rf = rf_model.predict(X_test_tfidf)\n",
    "\n",
    "# Evaluate the model\n",
    "accuracy_rf = accuracy_score(y_test, y_pred_rf)\n",
    "classification_rep_rf = classification_report(y_test, y_pred_rf)\n",
    "\n",
    "print(f'Accuracy for Random Forest: {accuracy_rf}')\n",
    "print('Classification Report for Random Forest:')\n",
    "print(classification_rep_rf)\n"
   ]
  },
  {
   "cell_type": "code",
   "execution_count": 59,
   "id": "f7beac7e-d9f8-4aa0-8f4b-8162ef341941",
   "metadata": {},
   "outputs": [
    {
     "name": "stdout",
     "output_type": "stream",
     "text": [
      "Gradient Booster\n"
     ]
    }
   ],
   "source": [
    "print(\"Gradient Booster\")"
   ]
  },
  {
   "cell_type": "code",
   "execution_count": 58,
   "id": "7be2a016-832f-487c-8059-56c745a57e73",
   "metadata": {},
   "outputs": [
    {
     "name": "stdout",
     "output_type": "stream",
     "text": [
      "Accuracy for Gradient Boosting: 0.9572425828970331\n",
      "Classification Report for Gradient Boosting:\n",
      "              precision    recall  f1-score   support\n",
      "\n",
      "           0       0.95      0.99      0.97       856\n",
      "           1       0.98      0.85      0.91       290\n",
      "\n",
      "    accuracy                           0.96      1146\n",
      "   macro avg       0.96      0.92      0.94      1146\n",
      "weighted avg       0.96      0.96      0.96      1146\n",
      "\n"
     ]
    }
   ],
   "source": [
    "from sklearn.ensemble import GradientBoostingClassifier\n",
    "\n",
    "# Initialize the Gradient Boosting model\n",
    "gb_model = GradientBoostingClassifier(n_estimators=100, random_state=42)\n",
    "\n",
    "# Train the model\n",
    "gb_model.fit(X_train_tfidf, y_train)\n",
    "\n",
    "# Make predictions on the test set\n",
    "y_pred_gb = gb_model.predict(X_test_tfidf)\n",
    "\n",
    "# Evaluate the model\n",
    "accuracy_gb = accuracy_score(y_test, y_pred_gb)\n",
    "classification_rep_gb = classification_report(y_test, y_pred_gb)\n",
    "\n",
    "print(f'Accuracy for Gradient Boosting: {accuracy_gb}')\n",
    "print('Classification Report for Gradient Boosting:')\n",
    "print(classification_rep_gb)\n"
   ]
  },
  {
   "cell_type": "code",
   "execution_count": 66,
   "id": "ea4ef09b-57ce-4c4b-a0cd-3655c6e719ad",
   "metadata": {},
   "outputs": [
    {
     "name": "stdout",
     "output_type": "stream",
     "text": [
      "CNN\n"
     ]
    }
   ],
   "source": [
    "print(\"CNN\")"
   ]
  },
  {
   "cell_type": "code",
   "execution_count": 60,
   "id": "9cef13b5-cf21-4c30-a173-202b4b001e53",
   "metadata": {},
   "outputs": [],
   "source": [
    "import numpy as np\n",
    "import pandas as pd\n",
    "from sklearn.model_selection import train_test_split\n",
    "from tensorflow.keras.preprocessing.text import Tokenizer\n",
    "from tensorflow.keras.preprocessing.sequence import pad_sequences\n",
    "from tensorflow.keras.models import Sequential\n",
    "from tensorflow.keras.layers import Embedding, Conv1D, GlobalMaxPooling1D, Dense, Dropout\n"
   ]
  },
  {
   "cell_type": "code",
   "execution_count": 61,
   "id": "40541d01-2cf0-4886-b3b6-28475eecc050",
   "metadata": {},
   "outputs": [],
   "source": [
    "# Extract features and labels\n",
    "X = data['text']\n",
    "y = data['spam']"
   ]
  },
  {
   "cell_type": "code",
   "execution_count": 62,
   "id": "bb31164c-51cd-4183-8e19-88199b449109",
   "metadata": {},
   "outputs": [],
   "source": [
    "# Tokenizer parameters\n",
    "max_words = 5000  # Maximum number of words to keep, based on word frequency\n",
    "max_len = 500  # Maximum length of sequences (number of words)\n",
    "\n",
    "# Initialize the Tokenizer\n",
    "tokenizer = Tokenizer(num_words=max_words, lower=True)\n",
    "tokenizer.fit_on_texts(X.values)  # Fit the tokenizer on the texts\n"
   ]
  },
  {
   "cell_type": "code",
   "execution_count": 63,
   "id": "81f837e4-af01-47cd-ae3f-941c33660e70",
   "metadata": {},
   "outputs": [],
   "source": [
    "# Convert texts to sequences of integers\n",
    "X = tokenizer.texts_to_sequences(X.values)\n",
    "\n",
    "# Pad sequences to ensure they are all the same length\n",
    "X = pad_sequences(X, maxlen=max_len)\n"
   ]
  },
  {
   "cell_type": "code",
   "execution_count": 64,
   "id": "ca0a49fd-bddc-4563-9c3c-666fc15d3546",
   "metadata": {},
   "outputs": [],
   "source": [
    "# Split the dataset into training and testing sets\n",
    "X_train, X_test, y_train, y_test = train_test_split(X, y, test_size=0.2, random_state=42)\n"
   ]
  },
  {
   "cell_type": "code",
   "execution_count": 65,
   "id": "af62f4cb-5b74-4037-9e42-0ecb9e489790",
   "metadata": {},
   "outputs": [],
   "source": [
    "# CNN model parameters\n",
    "embedding_dim = 100  # Dimension of the dense embedding\n",
    "num_filters = 128  # Number of filters in the convolutional layer\n",
    "kernel_size = 5  # Size of the convolutional filters\n"
   ]
  },
  {
   "cell_type": "code",
   "execution_count": 67,
   "id": "3d8a2ef5-f3fa-415a-8bdd-2dc71b9883ac",
   "metadata": {},
   "outputs": [
    {
     "name": "stderr",
     "output_type": "stream",
     "text": [
      "/opt/homebrew/Cellar/jupyterlab/4.1.6/libexec/lib/python3.12/site-packages/keras/src/layers/core/embedding.py:90: UserWarning: Argument `input_length` is deprecated. Just remove it.\n",
      "  warnings.warn(\n"
     ]
    }
   ],
   "source": [
    "# Build the CNN model\n",
    "model = Sequential()\n",
    "# Add an embedding layer to convert integer sequences into dense vectors of fixed size\n",
    "model.add(Embedding(max_words, embedding_dim, input_length=max_len))\n",
    "# Add a 1D convolutional layer with ReLU activation\n",
    "model.add(Conv1D(num_filters, kernel_size, activation='relu'))\n",
    "# Add a global max pooling layer to reduce the spatial dimensions of the output\n",
    "model.add(GlobalMaxPooling1D())\n",
    "# Add a dropout layer for regularization\n",
    "model.add(Dropout(0.5))\n",
    "# Add a dense layer with a single unit and sigmoid activation function for binary classification\n",
    "model.add(Dense(1, activation='sigmoid'))"
   ]
  },
  {
   "cell_type": "code",
   "execution_count": 68,
   "id": "f792739e-424a-45d2-ae45-b0bf216c9020",
   "metadata": {},
   "outputs": [],
   "source": [
    "# Compile the model with binary cross-entropy loss and Adam optimizer\n",
    "model.compile(loss='binary_crossentropy', optimizer='adam', metrics=['accuracy'])\n"
   ]
  },
  {
   "cell_type": "code",
   "execution_count": 69,
   "id": "71c7d5b5-a12c-42ac-aae6-55038629593a",
   "metadata": {},
   "outputs": [
    {
     "name": "stdout",
     "output_type": "stream",
     "text": [
      "Epoch 1/5\n",
      "72/72 - 5s - 64ms/step - accuracy: 0.7988 - loss: 0.3955 - val_accuracy: 0.9695 - val_loss: 0.1713\n",
      "Epoch 2/5\n",
      "72/72 - 4s - 56ms/step - accuracy: 0.9745 - loss: 0.0977 - val_accuracy: 0.9817 - val_loss: 0.0598\n",
      "Epoch 3/5\n",
      "72/72 - 4s - 56ms/step - accuracy: 0.9926 - loss: 0.0328 - val_accuracy: 0.9869 - val_loss: 0.0379\n",
      "Epoch 4/5\n",
      "72/72 - 4s - 59ms/step - accuracy: 0.9978 - loss: 0.0134 - val_accuracy: 0.9887 - val_loss: 0.0307\n",
      "Epoch 5/5\n",
      "72/72 - 4s - 58ms/step - accuracy: 0.9980 - loss: 0.0081 - val_accuracy: 0.9895 - val_loss: 0.0301\n"
     ]
    }
   ],
   "source": [
    "# Train the model\n",
    "history = model.fit(X_train, y_train, epochs=5, batch_size=64, validation_data=(X_test, y_test), verbose=2)"
   ]
  },
  {
   "cell_type": "code",
   "execution_count": 71,
   "id": "670dea87-8e47-4914-9fd3-f589b256e224",
   "metadata": {},
   "outputs": [
    {
     "name": "stdout",
     "output_type": "stream",
     "text": [
      "\u001b[1m36/36\u001b[0m \u001b[32m━━━━━━━━━━━━━━━━━━━━\u001b[0m\u001b[37m\u001b[0m \u001b[1m0s\u001b[0m 8ms/step\n"
     ]
    }
   ],
   "source": [
    "# Make predictions\n",
    "y_pred_prob = model.predict(X_test)\n",
    "y_pred = (y_pred_prob > 0.5).astype(int)\n",
    "# Calculate accuracy\n",
    "accuracy = accuracy_score(y_test, y_pred)\n",
    "\n",
    "# Calculate F1-score\n",
    "f1 = f1_score(y_test, y_pred)\n",
    "\n",
    "# Calculate precision\n",
    "precision = precision_score(y_test, y_pred)\n",
    "\n",
    "# Generate classification report\n",
    "report = classification_report(y_test, y_pred)"
   ]
  },
  {
   "cell_type": "code",
   "execution_count": 73,
   "id": "719781d6-ea44-4f2c-802a-ee1443a5dedd",
   "metadata": {},
   "outputs": [
    {
     "name": "stdout",
     "output_type": "stream",
     "text": [
      "Accuracy: 0.9895287958115183\n",
      "Classification Report:\n",
      "              precision    recall  f1-score   support\n",
      "\n",
      "           0       0.99      0.99      0.99       856\n",
      "           1       0.98      0.98      0.98       290\n",
      "\n",
      "    accuracy                           0.99      1146\n",
      "   macro avg       0.99      0.99      0.99      1146\n",
      "weighted avg       0.99      0.99      0.99      1146\n",
      "\n"
     ]
    }
   ],
   "source": [
    "# Print results\n",
    "print(\"Accuracy:\", accuracy)\n",
    "print(\"Classification Report:\")\n",
    "print(report)"
   ]
  },
  {
   "cell_type": "code",
   "execution_count": 80,
   "id": "98c5a02a-6942-4736-8847-4eafbeebfdf5",
   "metadata": {},
   "outputs": [
    {
     "data": {
      "image/png": "[encoded data removed]",
      "text/plain": [
       "<Figure size 800x800 with 1 Axes>"
      ]
     },
     "metadata": {},
     "output_type": "display_data"
    }
   ],
   "source": [
    "import matplotlib.pyplot as plt\n",
    "\n",
    "# Model names\n",
    "models = ['Naive Bayes', 'SVM', 'Random Forest', 'Gradient Boosting', 'CNN']\n",
    "\n",
    "# Accuracy scores of the models\n",
    "accuracy_scores = [89, 99, 97, 95, 98]\n",
    "\n",
    "# Create pie chart\n",
    "plt.figure(figsize=(8, 8))\n",
    "plt.pie(accuracy_scores, labels=models, autopct='%1.1f%%', startangle=140)\n",
    "plt.title('Accuracy Distribution of Different Models')\n",
    "plt.axis('equal')  # Equal aspect ratio ensures that pie is drawn as a circle.\n",
    "plt.show()\n"
   ]
  },
  {
   "cell_type": "code",
   "execution_count": 81,
   "id": "68d011b1-ca0d-4b75-9e48-8677bf0cd0e6",
   "metadata": {},
   "outputs": [
    {
     "name": "stdout",
     "output_type": "stream",
     "text": [
      "Checking the models\n"
     ]
    }
   ],
   "source": [
    "print(\"Checking the models\")"
   ]
  },
  {
   "cell_type": "code",
   "execution_count": 82,
   "id": "34a14757-3f82-4b52-94f4-6c994c54357b",
   "metadata": {},
   "outputs": [],
   "source": [
    "# Read test data from the text file\n",
    "with open('test_data.txt', 'r') as file:\n",
    "    test_data = file.readlines()\n",
    "\n",
    "# Remove newline characters from the end of each line\n",
    "test_data = [email.strip() for email in test_data]\n"
   ]
  },
  {
   "cell_type": "code",
   "execution_count": 84,
   "id": "1542784a-6e79-4b0d-97ab-1688ae7f0513",
   "metadata": {},
   "outputs": [
    {
     "ename": "NameError",
     "evalue": "name 'naive_bayes_model' is not defined",
     "output_type": "error",
     "traceback": [
      "\u001b[0;31m---------------------------------------------------------------------------\u001b[0m",
      "\u001b[0;31mNameError\u001b[0m                                 Traceback (most recent call last)",
      "Cell \u001b[0;32mIn[84], line 2\u001b[0m\n\u001b[1;32m      1\u001b[0m \u001b[38;5;66;03m# Make predictions using each model\u001b[39;00m\n\u001b[0;32m----> 2\u001b[0m naive_bayes_predictions \u001b[38;5;241m=\u001b[39m \u001b[43mnaive_bayes_model\u001b[49m\u001b[38;5;241m.\u001b[39mpredict(test_data)\n\u001b[1;32m      3\u001b[0m svm_predictions \u001b[38;5;241m=\u001b[39m svm_model\u001b[38;5;241m.\u001b[39mpredict(test_data)\n\u001b[1;32m      4\u001b[0m random_forest_predictions \u001b[38;5;241m=\u001b[39m random_forest_model\u001b[38;5;241m.\u001b[39mpredict(test_data)\n",
      "\u001b[0;31mNameError\u001b[0m: name 'naive_bayes_model' is not defined"
     ]
    }
   ],
   "source": []
  },
  {
   "cell_type": "code",
   "execution_count": null,
   "id": "d0ab3e61-951b-4529-8780-fe6afc38a3c9",
   "metadata": {},
   "outputs": [],
   "source": []
  }
 ],
 "metadata": {
  "kernelspec": {
   "display_name": "Python 3 (ipykernel)",
   "language": "python",
   "name": "python3"
  },
  "language_info": {
   "codemirror_mode": {
    "name": "ipython",
    "version": 3
   },
   "file_extension": ".py",
   "mimetype": "text/x-python",
   "name": "python",
   "nbconvert_exporter": "python",
   "pygments_lexer": "ipython3",
   "version": "3.12.2"
  }
 },
 "nbformat": 4,
 "nbformat_minor": 5
}
